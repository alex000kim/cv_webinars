{
 "cells": [
  {
   "cell_type": "code",
   "execution_count": 1,
   "id": "activated-german",
   "metadata": {},
   "outputs": [],
   "source": [
    "import torch\n",
    "import torchvision\n",
    "import torchvision.models as models\n",
    "import pandas as pd\n",
    "import numpy as np\n",
    "\n",
    "from PIL import Image\n",
    "from pathlib import Path\n",
    "from tqdm.auto import tqdm"
   ]
  },
  {
   "cell_type": "code",
   "execution_count": 2,
   "id": "multiple-worker",
   "metadata": {},
   "outputs": [],
   "source": [
    "# https://www.kaggle.com/andrewmvd/pollen-grain-image-classification\n",
    "data_path = Path('data/pollen-grain-image-classification/')"
   ]
  },
  {
   "cell_type": "code",
   "execution_count": 3,
   "id": "reverse-district",
   "metadata": {},
   "outputs": [
    {
     "data": {
      "text/plain": [
       "PosixPath('data/pollen-grain-image-classification/anadenanthera_16.jpg')"
      ]
     },
     "execution_count": 3,
     "metadata": {},
     "output_type": "execute_result"
    }
   ],
   "source": [
    "img_flist = list(data_path.glob('*.jpg'))\n",
    "img_flist[0]"
   ]
  },
  {
   "cell_type": "code",
   "execution_count": 4,
   "id": "abandoned-spectacular",
   "metadata": {},
   "outputs": [
    {
     "data": {
      "text/plain": [
       "790"
      ]
     },
     "execution_count": 4,
     "metadata": {},
     "output_type": "execute_result"
    }
   ],
   "source": [
    "len(img_flist)"
   ]
  },
  {
   "cell_type": "code",
   "execution_count": 21,
   "id": "southwest-analysis",
   "metadata": {},
   "outputs": [],
   "source": [
    "transforms = torchvision.transforms.Compose([\n",
    "    torchvision.transforms.Resize(256),\n",
    "    torchvision.transforms.CenterCrop(224),\n",
    "    torchvision.transforms.ToTensor(),\n",
    "    torchvision.transforms.Normalize(mean=[0.485, 0.456, 0.406], std=[0.229, 0.224, 0.225]),\n",
    "])\n",
    "\n",
    "pretrained_model = models.resnet18(pretrained=True)\n",
    "pretrained_model.eval()"
   ]
  },
  {
   "cell_type": "code",
   "execution_count": 24,
   "id": "subsequent-opera",
   "metadata": {},
   "outputs": [],
   "source": [
    "def get_img_vec(img):\n",
    "    feature_extractor = torch.nn.Sequential(*list(pretrained_model.children())[:-1])\n",
    "    img = transforms(img).unsqueeze(dim=0)\n",
    "    output = feature_extractor(img)\n",
    "    output = torch.squeeze(output).detach().numpy()\n",
    "    return output"
   ]
  },
  {
   "cell_type": "code",
   "execution_count": 25,
   "id": "employed-palestinian",
   "metadata": {
    "scrolled": true
   },
   "outputs": [
    {
     "data": {
      "text/plain": [
       "(512,)"
      ]
     },
     "execution_count": 25,
     "metadata": {},
     "output_type": "execute_result"
    }
   ],
   "source": [
    "img_path = img_flist[0]\n",
    "img = Image.open(img_path)\n",
    "vec = get_img_vec(img)\n",
    "vec.shape"
   ]
  },
  {
   "cell_type": "code",
   "execution_count": 10,
   "id": "lesbian-genealogy",
   "metadata": {},
   "outputs": [
    {
     "data": {
      "application/vnd.jupyter.widget-view+json": {
       "model_id": "13dc86f940c94ad79e6ad54cb4e64646",
       "version_major": 2,
       "version_minor": 0
      },
      "text/plain": [
       "  0%|          | 0/790 [00:00<?, ?it/s]"
      ]
     },
     "metadata": {},
     "output_type": "display_data"
    }
   ],
   "source": [
    "import re\n",
    "\n",
    "X = []\n",
    "y = []\n",
    "\n",
    "for img_fpath in tqdm(img_flist):\n",
    "    img = Image.open(img_fpath)\n",
    "    vec = get_img_vec(img)\n",
    "    label = re.split('_| ', img_fpath.name)[0]\n",
    "    X.append(vec)\n",
    "    y.append(label)\n",
    "\n",
    "X = pd.DataFrame(X)\n",
    "y = pd.Series(y)"
   ]
  },
  {
   "cell_type": "code",
   "execution_count": 11,
   "id": "strategic-wallpaper",
   "metadata": {},
   "outputs": [
    {
     "data": {
      "text/html": [
       "<div>\n",
       "<style scoped>\n",
       "    .dataframe tbody tr th:only-of-type {\n",
       "        vertical-align: middle;\n",
       "    }\n",
       "\n",
       "    .dataframe tbody tr th {\n",
       "        vertical-align: top;\n",
       "    }\n",
       "\n",
       "    .dataframe thead th {\n",
       "        text-align: right;\n",
       "    }\n",
       "</style>\n",
       "<table border=\"1\" class=\"dataframe\">\n",
       "  <thead>\n",
       "    <tr style=\"text-align: right;\">\n",
       "      <th></th>\n",
       "      <th>0</th>\n",
       "      <th>1</th>\n",
       "      <th>2</th>\n",
       "      <th>3</th>\n",
       "      <th>4</th>\n",
       "      <th>5</th>\n",
       "      <th>6</th>\n",
       "      <th>7</th>\n",
       "      <th>8</th>\n",
       "      <th>9</th>\n",
       "      <th>...</th>\n",
       "      <th>502</th>\n",
       "      <th>503</th>\n",
       "      <th>504</th>\n",
       "      <th>505</th>\n",
       "      <th>506</th>\n",
       "      <th>507</th>\n",
       "      <th>508</th>\n",
       "      <th>509</th>\n",
       "      <th>510</th>\n",
       "      <th>511</th>\n",
       "    </tr>\n",
       "  </thead>\n",
       "  <tbody>\n",
       "    <tr>\n",
       "      <th>0</th>\n",
       "      <td>1.339875</td>\n",
       "      <td>0.328597</td>\n",
       "      <td>1.292346</td>\n",
       "      <td>1.133927</td>\n",
       "      <td>0.544513</td>\n",
       "      <td>0.392154</td>\n",
       "      <td>2.509728</td>\n",
       "      <td>1.109416</td>\n",
       "      <td>0.920267</td>\n",
       "      <td>0.354975</td>\n",
       "      <td>...</td>\n",
       "      <td>0.217648</td>\n",
       "      <td>0.625341</td>\n",
       "      <td>2.253731</td>\n",
       "      <td>0.012568</td>\n",
       "      <td>0.766533</td>\n",
       "      <td>1.011089</td>\n",
       "      <td>0.338930</td>\n",
       "      <td>0.711118</td>\n",
       "      <td>0.608330</td>\n",
       "      <td>0.613997</td>\n",
       "    </tr>\n",
       "    <tr>\n",
       "      <th>1</th>\n",
       "      <td>0.201643</td>\n",
       "      <td>0.419185</td>\n",
       "      <td>0.500751</td>\n",
       "      <td>1.716043</td>\n",
       "      <td>0.019110</td>\n",
       "      <td>0.643496</td>\n",
       "      <td>1.256870</td>\n",
       "      <td>0.339626</td>\n",
       "      <td>1.825647</td>\n",
       "      <td>0.839047</td>\n",
       "      <td>...</td>\n",
       "      <td>0.531199</td>\n",
       "      <td>0.694212</td>\n",
       "      <td>0.911593</td>\n",
       "      <td>0.024255</td>\n",
       "      <td>0.348792</td>\n",
       "      <td>0.339363</td>\n",
       "      <td>0.362118</td>\n",
       "      <td>0.285629</td>\n",
       "      <td>0.444145</td>\n",
       "      <td>0.539838</td>\n",
       "    </tr>\n",
       "    <tr>\n",
       "      <th>2</th>\n",
       "      <td>0.758076</td>\n",
       "      <td>0.241719</td>\n",
       "      <td>0.814049</td>\n",
       "      <td>0.832038</td>\n",
       "      <td>0.162181</td>\n",
       "      <td>0.161663</td>\n",
       "      <td>2.295728</td>\n",
       "      <td>0.428957</td>\n",
       "      <td>0.536558</td>\n",
       "      <td>0.490910</td>\n",
       "      <td>...</td>\n",
       "      <td>0.709063</td>\n",
       "      <td>0.898288</td>\n",
       "      <td>1.654396</td>\n",
       "      <td>0.172455</td>\n",
       "      <td>0.465595</td>\n",
       "      <td>2.240495</td>\n",
       "      <td>0.727283</td>\n",
       "      <td>0.493300</td>\n",
       "      <td>0.329039</td>\n",
       "      <td>1.691645</td>\n",
       "    </tr>\n",
       "    <tr>\n",
       "      <th>3</th>\n",
       "      <td>1.244469</td>\n",
       "      <td>0.330813</td>\n",
       "      <td>0.385278</td>\n",
       "      <td>0.732811</td>\n",
       "      <td>0.335211</td>\n",
       "      <td>0.106365</td>\n",
       "      <td>2.280755</td>\n",
       "      <td>0.845070</td>\n",
       "      <td>0.824438</td>\n",
       "      <td>0.516464</td>\n",
       "      <td>...</td>\n",
       "      <td>1.270090</td>\n",
       "      <td>0.029812</td>\n",
       "      <td>3.647389</td>\n",
       "      <td>0.056576</td>\n",
       "      <td>1.105083</td>\n",
       "      <td>1.603186</td>\n",
       "      <td>0.453577</td>\n",
       "      <td>1.119995</td>\n",
       "      <td>0.122851</td>\n",
       "      <td>1.010983</td>\n",
       "    </tr>\n",
       "    <tr>\n",
       "      <th>4</th>\n",
       "      <td>2.416623</td>\n",
       "      <td>0.412816</td>\n",
       "      <td>0.267597</td>\n",
       "      <td>1.255969</td>\n",
       "      <td>0.576244</td>\n",
       "      <td>0.677116</td>\n",
       "      <td>1.742566</td>\n",
       "      <td>1.428448</td>\n",
       "      <td>1.308033</td>\n",
       "      <td>0.852485</td>\n",
       "      <td>...</td>\n",
       "      <td>0.354374</td>\n",
       "      <td>0.000000</td>\n",
       "      <td>4.427204</td>\n",
       "      <td>0.101068</td>\n",
       "      <td>0.346264</td>\n",
       "      <td>0.828888</td>\n",
       "      <td>0.599236</td>\n",
       "      <td>0.074258</td>\n",
       "      <td>0.279466</td>\n",
       "      <td>2.488668</td>\n",
       "    </tr>\n",
       "  </tbody>\n",
       "</table>\n",
       "<p>5 rows × 512 columns</p>\n",
       "</div>"
      ],
      "text/plain": [
       "        0         1         2         3         4         5         6    \\\n",
       "0  1.339875  0.328597  1.292346  1.133927  0.544513  0.392154  2.509728   \n",
       "1  0.201643  0.419185  0.500751  1.716043  0.019110  0.643496  1.256870   \n",
       "2  0.758076  0.241719  0.814049  0.832038  0.162181  0.161663  2.295728   \n",
       "3  1.244469  0.330813  0.385278  0.732811  0.335211  0.106365  2.280755   \n",
       "4  2.416623  0.412816  0.267597  1.255969  0.576244  0.677116  1.742566   \n",
       "\n",
       "        7         8         9    ...       502       503       504       505  \\\n",
       "0  1.109416  0.920267  0.354975  ...  0.217648  0.625341  2.253731  0.012568   \n",
       "1  0.339626  1.825647  0.839047  ...  0.531199  0.694212  0.911593  0.024255   \n",
       "2  0.428957  0.536558  0.490910  ...  0.709063  0.898288  1.654396  0.172455   \n",
       "3  0.845070  0.824438  0.516464  ...  1.270090  0.029812  3.647389  0.056576   \n",
       "4  1.428448  1.308033  0.852485  ...  0.354374  0.000000  4.427204  0.101068   \n",
       "\n",
       "        506       507       508       509       510       511  \n",
       "0  0.766533  1.011089  0.338930  0.711118  0.608330  0.613997  \n",
       "1  0.348792  0.339363  0.362118  0.285629  0.444145  0.539838  \n",
       "2  0.465595  2.240495  0.727283  0.493300  0.329039  1.691645  \n",
       "3  1.105083  1.603186  0.453577  1.119995  0.122851  1.010983  \n",
       "4  0.346264  0.828888  0.599236  0.074258  0.279466  2.488668  \n",
       "\n",
       "[5 rows x 512 columns]"
      ]
     },
     "execution_count": 11,
     "metadata": {},
     "output_type": "execute_result"
    }
   ],
   "source": [
    "X.head()"
   ]
  },
  {
   "cell_type": "code",
   "execution_count": 12,
   "id": "promotional-blogger",
   "metadata": {},
   "outputs": [
    {
     "data": {
      "text/plain": [
       "0    anadenanthera\n",
       "1    anadenanthera\n",
       "2    anadenanthera\n",
       "3    anadenanthera\n",
       "4    anadenanthera\n",
       "dtype: object"
      ]
     },
     "execution_count": 12,
     "metadata": {},
     "output_type": "execute_result"
    }
   ],
   "source": [
    "y.head()"
   ]
  },
  {
   "cell_type": "code",
   "execution_count": 13,
   "id": "integrated-distance",
   "metadata": {},
   "outputs": [
    {
     "data": {
      "text/plain": [
       "mabea            35\n",
       "matayba          35\n",
       "tridax           35\n",
       "syagrus          35\n",
       "serjania         35\n",
       "senegalia        35\n",
       "schinus          35\n",
       "qualea           35\n",
       "protium          35\n",
       "myrcia           35\n",
       "mimosa           35\n",
       "urochloa         35\n",
       "arecaceae        35\n",
       "hyptis           35\n",
       "faramea          35\n",
       "eucalipto        35\n",
       "dipteryx         35\n",
       "croton           35\n",
       "combretum        35\n",
       "chromolaena      35\n",
       "cecropia         35\n",
       "arrabidaea       35\n",
       "anadenanthera    20\n",
       "dtype: int64"
      ]
     },
     "execution_count": 13,
     "metadata": {},
     "output_type": "execute_result"
    }
   ],
   "source": [
    "y.value_counts()"
   ]
  },
  {
   "cell_type": "code",
   "execution_count": 14,
   "id": "convinced-kelly",
   "metadata": {},
   "outputs": [],
   "source": [
    "from sklearn.model_selection import train_test_split\n",
    "\n",
    "X_train, X_test, y_train, y_test = train_test_split(X, y, \n",
    "                                                    test_size=0.33, \n",
    "                                                    stratify=y,\n",
    "                                                    random_state=42)"
   ]
  },
  {
   "cell_type": "code",
   "execution_count": 15,
   "id": "political-donna",
   "metadata": {},
   "outputs": [
    {
     "data": {
      "text/plain": [
       "protium          12\n",
       "eucalipto        12\n",
       "schinus          12\n",
       "senegalia        12\n",
       "dipteryx         12\n",
       "mabea            12\n",
       "serjania         12\n",
       "urochloa         12\n",
       "cecropia         12\n",
       "syagrus          12\n",
       "hyptis           12\n",
       "mimosa           12\n",
       "tridax           11\n",
       "arecaceae        11\n",
       "combretum        11\n",
       "chromolaena      11\n",
       "qualea           11\n",
       "matayba          11\n",
       "myrcia           11\n",
       "arrabidaea       11\n",
       "croton           11\n",
       "faramea          11\n",
       "anadenanthera     7\n",
       "dtype: int64"
      ]
     },
     "execution_count": 15,
     "metadata": {},
     "output_type": "execute_result"
    }
   ],
   "source": [
    "y_test.value_counts()"
   ]
  },
  {
   "cell_type": "code",
   "execution_count": 32,
   "id": "regulation-trauma",
   "metadata": {},
   "outputs": [],
   "source": [
    "from sklearn.linear_model import LogisticRegression\n",
    "\n",
    "clf = LogisticRegression(solver='liblinear')\n",
    "clf.fit(X_train, y_train)\n",
    "y_pred = clf.predict(X_test)"
   ]
  },
  {
   "cell_type": "code",
   "execution_count": 33,
   "id": "finished-slovak",
   "metadata": {},
   "outputs": [
    {
     "data": {
      "text/plain": [
       "(0.9157088122605364, 0.9201100831535615, 0.9150668172407302)"
      ]
     },
     "execution_count": 33,
     "metadata": {},
     "output_type": "execute_result"
    }
   ],
   "source": [
    "import matplotlib.pyplot as plt\n",
    "from sklearn.metrics import accuracy_score, precision_score, recall_score, plot_confusion_matrix\n",
    "\n",
    "acc = accuracy_score(y_test, y_pred)\n",
    "precision = precision_score(y_test, y_pred, average='macro')\n",
    "recall = recall_score(y_test, y_pred, average='macro')\n",
    "acc, precision, recall"
   ]
  },
  {
   "cell_type": "code",
   "execution_count": 34,
   "id": "played-slovakia",
   "metadata": {},
   "outputs": [
    {
     "data": {
      "image/png": "[encoded data removed]",
      "text/plain": [
       "<Figure size 700x700 with 2 Axes>"
      ]
     },
     "metadata": {
      "needs_background": "light"
     },
     "output_type": "display_data"
    }
   ],
   "source": [
    "plt.rcParams[\"figure.figsize\"] = (7,7)\n",
    "plt.rcParams['figure.dpi'] = 100\n",
    "\n",
    "plot_confusion_matrix(clf, X_test, y_test, xticks_rotation='vertical', cmap='Blues')  \n",
    "plt.show() "
   ]
  },
  {
   "cell_type": "code",
   "execution_count": 19,
   "id": "brave-johnson",
   "metadata": {},
   "outputs": [
    {
     "data": {
      "text/plain": [
       "array(['urochloa'], dtype=object)"
      ]
     },
     "execution_count": 19,
     "metadata": {},
     "output_type": "execute_result"
    }
   ],
   "source": [
    "sample_img_index = -1 \n",
    "img_path = img_flist[sample_img_index]\n",
    "img = Image.open(img_path)\n",
    "vec = get_img_vec(img)\n",
    "clf.predict([vec])"
   ]
  },
  {
   "cell_type": "code",
   "execution_count": null,
   "id": "buried-services",
   "metadata": {},
   "outputs": [],
   "source": []
  }
 ],
 "metadata": {
  "kernelspec": {
   "display_name": "Python (cv-webinar)",
   "language": "python",
   "name": "cv-webinar"
  },
  "language_info": {
   "codemirror_mode": {
    "name": "ipython",
    "version": 3
   },
   "file_extension": ".py",
   "mimetype": "text/x-python",
   "name": "python",
   "nbconvert_exporter": "python",
   "pygments_lexer": "ipython3",
   "version": "3.8.8"
  }
 },
 "nbformat": 4,
 "nbformat_minor": 5
}
